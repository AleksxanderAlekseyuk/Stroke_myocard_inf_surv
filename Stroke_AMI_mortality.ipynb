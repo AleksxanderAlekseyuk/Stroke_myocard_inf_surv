{
  "nbformat": 4,
  "nbformat_minor": 0,
  "metadata": {
    "colab": {
      "name": "CKD_mortalyty.ipynb",
      "provenance": []
    },
    "kernelspec": {
      "display_name": "Python 3",
      "name": "python3"
    }
  },
  "cells": [
    {
      "cell_type": "code",
      "metadata": {
        "colab": {
          "base_uri": "https://localhost:8080/",
          "height": 868
        },
        "id": "tdjJp2An9R87",
        "outputId": "f1de83a6-c4d6-4587-8649-576b07b4c834"
      },
      "source": [
        "!pip install h2o\n",
        "import pandas as pd\n",
        "import matplotlib.pyplot as plt\n",
        "\n",
        "import h2o\n",
        "h2o.init()"
      ],
      "execution_count": 2,
      "outputs": [
        {
          "output_type": "stream",
          "text": [
            "Collecting h2o\n",
            "\u001b[?25l  Downloading https://files.pythonhosted.org/packages/3b/d1/9edb2359afa29049bb6e75f9a673bb68c897e7f3e6238ffb77ba9eddf04b/h2o-3.32.0.3.tar.gz (164.6MB)\n",
            "\u001b[K     |████████████████████████████████| 164.6MB 95kB/s \n",
            "\u001b[?25hRequirement already satisfied: requests in /usr/local/lib/python3.6/dist-packages (from h2o) (2.23.0)\n",
            "Requirement already satisfied: tabulate in /usr/local/lib/python3.6/dist-packages (from h2o) (0.8.7)\n",
            "Requirement already satisfied: future in /usr/local/lib/python3.6/dist-packages (from h2o) (0.16.0)\n",
            "Collecting colorama>=0.3.8\n",
            "  Downloading https://files.pythonhosted.org/packages/44/98/5b86278fbbf250d239ae0ecb724f8572af1c91f4a11edf4d36a206189440/colorama-0.4.4-py2.py3-none-any.whl\n",
            "Requirement already satisfied: chardet<4,>=3.0.2 in /usr/local/lib/python3.6/dist-packages (from requests->h2o) (3.0.4)\n",
            "Requirement already satisfied: urllib3!=1.25.0,!=1.25.1,<1.26,>=1.21.1 in /usr/local/lib/python3.6/dist-packages (from requests->h2o) (1.24.3)\n",
            "Requirement already satisfied: idna<3,>=2.5 in /usr/local/lib/python3.6/dist-packages (from requests->h2o) (2.10)\n",
            "Requirement already satisfied: certifi>=2017.4.17 in /usr/local/lib/python3.6/dist-packages (from requests->h2o) (2020.12.5)\n",
            "Building wheels for collected packages: h2o\n",
            "  Building wheel for h2o (setup.py) ... \u001b[?25l\u001b[?25hdone\n",
            "  Created wheel for h2o: filename=h2o-3.32.0.3-py2.py3-none-any.whl size=164649662 sha256=a0a79dbca9978fc89579fa5b72d3fe115d6eef0d54c75608fbe85ccdd22922ee\n",
            "  Stored in directory: /root/.cache/pip/wheels/0a/fd/63/96d322a27867a81a2904172a75aed5241913d603a4b8c4b277\n",
            "Successfully built h2o\n",
            "Installing collected packages: colorama, h2o\n",
            "Successfully installed colorama-0.4.4 h2o-3.32.0.3\n",
            "Checking whether there is an H2O instance running at http://localhost:54321 ..... not found.\n",
            "Attempting to start a local H2O server...\n",
            "  Java Version: openjdk version \"11.0.9.1\" 2020-11-04; OpenJDK Runtime Environment (build 11.0.9.1+1-Ubuntu-0ubuntu1.18.04); OpenJDK 64-Bit Server VM (build 11.0.9.1+1-Ubuntu-0ubuntu1.18.04, mixed mode, sharing)\n",
            "  Starting server from /usr/local/lib/python3.6/dist-packages/h2o/backend/bin/h2o.jar\n",
            "  Ice root: /tmp/tmprof7erwn\n",
            "  JVM stdout: /tmp/tmprof7erwn/h2o_unknownUser_started_from_python.out\n",
            "  JVM stderr: /tmp/tmprof7erwn/h2o_unknownUser_started_from_python.err\n",
            "  Server is running at http://127.0.0.1:54321\n",
            "Connecting to H2O server at http://127.0.0.1:54321 ... successful.\n"
          ],
          "name": "stdout"
        },
        {
          "output_type": "display_data",
          "data": {
            "text/html": [
              "<div style=\"overflow:auto\"><table style=\"width:50%\"><tr><td>H2O_cluster_uptime:</td>\n",
              "<td>03 secs</td></tr>\n",
              "<tr><td>H2O_cluster_timezone:</td>\n",
              "<td>Etc/UTC</td></tr>\n",
              "<tr><td>H2O_data_parsing_timezone:</td>\n",
              "<td>UTC</td></tr>\n",
              "<tr><td>H2O_cluster_version:</td>\n",
              "<td>3.32.0.3</td></tr>\n",
              "<tr><td>H2O_cluster_version_age:</td>\n",
              "<td>22 days </td></tr>\n",
              "<tr><td>H2O_cluster_name:</td>\n",
              "<td>H2O_from_python_unknownUser_gdwvwu</td></tr>\n",
              "<tr><td>H2O_cluster_total_nodes:</td>\n",
              "<td>1</td></tr>\n",
              "<tr><td>H2O_cluster_free_memory:</td>\n",
              "<td>3.180 Gb</td></tr>\n",
              "<tr><td>H2O_cluster_total_cores:</td>\n",
              "<td>2</td></tr>\n",
              "<tr><td>H2O_cluster_allowed_cores:</td>\n",
              "<td>2</td></tr>\n",
              "<tr><td>H2O_cluster_status:</td>\n",
              "<td>accepting new members, healthy</td></tr>\n",
              "<tr><td>H2O_connection_url:</td>\n",
              "<td>http://127.0.0.1:54321</td></tr>\n",
              "<tr><td>H2O_connection_proxy:</td>\n",
              "<td>{\"http\": null, \"https\": null}</td></tr>\n",
              "<tr><td>H2O_internal_security:</td>\n",
              "<td>False</td></tr>\n",
              "<tr><td>H2O_API_Extensions:</td>\n",
              "<td>Amazon S3, XGBoost, Algos, AutoML, Core V3, TargetEncoder, Core V4</td></tr>\n",
              "<tr><td>Python_version:</td>\n",
              "<td>3.6.9 final</td></tr></table></div>"
            ],
            "text/plain": [
              "--------------------------  ------------------------------------------------------------------\n",
              "H2O_cluster_uptime:         03 secs\n",
              "H2O_cluster_timezone:       Etc/UTC\n",
              "H2O_data_parsing_timezone:  UTC\n",
              "H2O_cluster_version:        3.32.0.3\n",
              "H2O_cluster_version_age:    22 days\n",
              "H2O_cluster_name:           H2O_from_python_unknownUser_gdwvwu\n",
              "H2O_cluster_total_nodes:    1\n",
              "H2O_cluster_free_memory:    3.180 Gb\n",
              "H2O_cluster_total_cores:    2\n",
              "H2O_cluster_allowed_cores:  2\n",
              "H2O_cluster_status:         accepting new members, healthy\n",
              "H2O_connection_url:         http://127.0.0.1:54321\n",
              "H2O_connection_proxy:       {\"http\": null, \"https\": null}\n",
              "H2O_internal_security:      False\n",
              "H2O_API_Extensions:         Amazon S3, XGBoost, Algos, AutoML, Core V3, TargetEncoder, Core V4\n",
              "Python_version:             3.6.9 final\n",
              "--------------------------  ------------------------------------------------------------------"
            ]
          },
          "metadata": {
            "tags": []
          }
        }
      ]
    },
    {
      "cell_type": "code",
      "metadata": {
        "id": "Sa8rv0uR_pFo",
        "colab": {
          "base_uri": "https://localhost:8080/"
        },
        "outputId": "02409de3-3dcc-442d-9a49-2864267709ee"
      },
      "source": [
        "df = pd.read_csv(\n",
        "  '/content/data_stroke.csv')\n",
        "data = h2o.import_file('/content/data_stroke.csv')\n",
        "data['Surv'] = data['Surv'].asfactor()"
      ],
      "execution_count": 3,
      "outputs": [
        {
          "output_type": "stream",
          "text": [
            "Parse progress: |█████████████████████████████████████████████████████████| 100%\n"
          ],
          "name": "stdout"
        }
      ]
    },
    {
      "cell_type": "code",
      "metadata": {
        "id": "gDj1BNyWsBK1",
        "colab": {
          "base_uri": "https://localhost:8080/",
          "height": 465
        },
        "outputId": "8f6c0c0d-10d7-4bde-bbca-8e4b40bed4de"
      },
      "source": [
        "data.describe()"
      ],
      "execution_count": 4,
      "outputs": [
        {
          "output_type": "stream",
          "text": [
            "Rows:113\n",
            "Cols:9\n",
            "\n",
            "\n"
          ],
          "name": "stdout"
        },
        {
          "output_type": "display_data",
          "data": {
            "text/html": [
              "<table>\n",
              "<thead>\n",
              "<tr><th>       </th><th>Gender  </th><th>Age              </th><th>AF   </th><th>Localisation  </th><th>AMI_Unst.ang  </th><th>GFR              </th><th>Surv  </th><th>Q_non_Q  </th><th>DM         </th></tr>\n",
              "</thead>\n",
              "<tbody>\n",
              "<tr><td>type   </td><td>enum    </td><td>int              </td><td>enum </td><td>enum          </td><td>enum          </td><td>int              </td><td>enum  </td><td>enum     </td><td>enum       </td></tr>\n",
              "<tr><td>mins   </td><td>        </td><td>56.0             </td><td>     </td><td>              </td><td>              </td><td>9.0              </td><td>      </td><td>         </td><td>           </td></tr>\n",
              "<tr><td>mean   </td><td>        </td><td>77.01769911504424</td><td>     </td><td>              </td><td>              </td><td>43.00000000000002</td><td>      </td><td>         </td><td>           </td></tr>\n",
              "<tr><td>maxs   </td><td>        </td><td>98.0             </td><td>     </td><td>              </td><td>              </td><td>98.0             </td><td>      </td><td>         </td><td>           </td></tr>\n",
              "<tr><td>sigma  </td><td>        </td><td>8.869069749984408</td><td>     </td><td>              </td><td>              </td><td>20.34128454997022</td><td>      </td><td>         </td><td>           </td></tr>\n",
              "<tr><td>zeros  </td><td>        </td><td>0                </td><td>     </td><td>              </td><td>              </td><td>0                </td><td>      </td><td>         </td><td>           </td></tr>\n",
              "<tr><td>missing</td><td>0       </td><td>0                </td><td>0    </td><td>0             </td><td>0             </td><td>0                </td><td>0     </td><td>59       </td><td>0          </td></tr>\n",
              "<tr><td>0      </td><td>male    </td><td>56.0             </td><td>No_AF</td><td>Left_car      </td><td>AMI           </td><td>14.0             </td><td>death </td><td>non_Q    </td><td>Diabetes   </td></tr>\n",
              "<tr><td>1      </td><td>male    </td><td>59.0             </td><td>No_AF</td><td>Left_car      </td><td>Unst_ang      </td><td>98.0             </td><td>alive </td><td>         </td><td>No_Diabetes</td></tr>\n",
              "<tr><td>2      </td><td>female  </td><td>86.0             </td><td>AF   </td><td>Left_car      </td><td>AMI           </td><td>57.0             </td><td>death </td><td>non_Q    </td><td>Diabetes   </td></tr>\n",
              "<tr><td>3      </td><td>female  </td><td>83.0             </td><td>AF   </td><td>Left_car      </td><td>Unst_ang      </td><td>69.0             </td><td>alive </td><td>         </td><td>No_Diabetes</td></tr>\n",
              "<tr><td>4      </td><td>female  </td><td>78.0             </td><td>AF   </td><td>Left_car      </td><td>AMI           </td><td>54.0             </td><td>death </td><td>non_Q    </td><td>No_Diabetes</td></tr>\n",
              "<tr><td>5      </td><td>male    </td><td>73.0             </td><td>No_AF</td><td>Right_car     </td><td>AMI           </td><td>86.0             </td><td>alive </td><td>         </td><td>No_Diabetes</td></tr>\n",
              "<tr><td>6      </td><td>female  </td><td>76.0             </td><td>AF   </td><td>Right_car     </td><td>AMI           </td><td>12.0             </td><td>death </td><td>         </td><td>Diabetes   </td></tr>\n",
              "<tr><td>7      </td><td>male    </td><td>76.0             </td><td>AF   </td><td>Vertebro_bas  </td><td>Unst_ang      </td><td>52.0             </td><td>alive </td><td>         </td><td>No_Diabetes</td></tr>\n",
              "<tr><td>8      </td><td>male    </td><td>78.0             </td><td>AF   </td><td>Left_car      </td><td>AMI           </td><td>32.0             </td><td>death </td><td>         </td><td>Diabetes   </td></tr>\n",
              "<tr><td>9      </td><td>female  </td><td>76.0             </td><td>No_AF</td><td>Left_car      </td><td>AMI           </td><td>37.0             </td><td>death </td><td>         </td><td>No_Diabetes</td></tr>\n",
              "</tbody>\n",
              "</table>"
            ]
          },
          "metadata": {
            "tags": []
          }
        }
      ]
    },
    {
      "cell_type": "code",
      "metadata": {
        "id": "n3259eWSsPgv",
        "colab": {
          "base_uri": "https://localhost:8080/",
          "height": 82
        },
        "outputId": "e017c5c8-5f1c-453d-934b-32eadb3cc8b1"
      },
      "source": [
        "data['Surv'].table()"
      ],
      "execution_count": 5,
      "outputs": [
        {
          "output_type": "display_data",
          "data": {
            "text/html": [
              "<table>\n",
              "<thead>\n",
              "<tr><th>Surv  </th><th style=\"text-align: right;\">  Count</th></tr>\n",
              "</thead>\n",
              "<tbody>\n",
              "<tr><td>alive </td><td style=\"text-align: right;\">     52</td></tr>\n",
              "<tr><td>death </td><td style=\"text-align: right;\">     61</td></tr>\n",
              "</tbody>\n",
              "</table>"
            ]
          },
          "metadata": {
            "tags": []
          }
        },
        {
          "output_type": "execute_result",
          "data": {
            "text/plain": [
              ""
            ]
          },
          "metadata": {
            "tags": []
          },
          "execution_count": 5
        }
      ]
    },
    {
      "cell_type": "code",
      "metadata": {
        "id": "bK7vSLlosXvn",
        "colab": {
          "base_uri": "https://localhost:8080/",
          "height": 82
        },
        "outputId": "2dc45b2f-54a6-408e-d5cc-cd1889bb1fb7"
      },
      "source": [
        "data['Gender'].table()"
      ],
      "execution_count": 6,
      "outputs": [
        {
          "output_type": "display_data",
          "data": {
            "text/html": [
              "<table>\n",
              "<thead>\n",
              "<tr><th>Gender  </th><th style=\"text-align: right;\">  Count</th></tr>\n",
              "</thead>\n",
              "<tbody>\n",
              "<tr><td>female  </td><td style=\"text-align: right;\">     83</td></tr>\n",
              "<tr><td>male    </td><td style=\"text-align: right;\">     30</td></tr>\n",
              "</tbody>\n",
              "</table>"
            ]
          },
          "metadata": {
            "tags": []
          }
        },
        {
          "output_type": "execute_result",
          "data": {
            "text/plain": [
              ""
            ]
          },
          "metadata": {
            "tags": []
          },
          "execution_count": 6
        }
      ]
    },
    {
      "cell_type": "code",
      "metadata": {
        "id": "y5Yon2n6sd6j"
      },
      "source": [
        ""
      ],
      "execution_count": 6,
      "outputs": []
    },
    {
      "cell_type": "code",
      "metadata": {
        "id": "hgpAUiLvADMf"
      },
      "source": [
        "from h2o.automl import H2OAutoML\n",
        "from h2o.estimators import H2OXGBoostEstimator"
      ],
      "execution_count": 7,
      "outputs": []
    },
    {
      "cell_type": "code",
      "metadata": {
        "id": "yRArfR28Ay5F"
      },
      "source": [
        "# Set predictors and response variable\n",
        "response = \"Surv\"\n",
        "predictors = data.col_names.remove(response)\n"
      ],
      "execution_count": 8,
      "outputs": []
    },
    {
      "cell_type": "code",
      "metadata": {
        "id": "nP9i-OcZBwjj"
      },
      "source": [
        "# split\n",
        "train, test = data.split_frame(seed = 1234, \n",
        "                                  ratios = [0.75], \n",
        "                                  destination_frames = [\"train.hex\", \"test.hex\"])"
      ],
      "execution_count": 9,
      "outputs": []
    },
    {
      "cell_type": "code",
      "metadata": {
        "colab": {
          "base_uri": "https://localhost:8080/"
        },
        "id": "nQvnIKpaOTg1",
        "outputId": "2acc2ea4-4145-4015-b250-c0578b115359"
      },
      "source": [
        "train.col_names"
      ],
      "execution_count": 10,
      "outputs": [
        {
          "output_type": "execute_result",
          "data": {
            "text/plain": [
              "['Gender',\n",
              " 'Age',\n",
              " 'AF',\n",
              " 'Localisation',\n",
              " 'AMI_Unst.ang',\n",
              " 'GFR',\n",
              " 'Surv',\n",
              " 'Q_non_Q',\n",
              " 'DM']"
            ]
          },
          "metadata": {
            "tags": []
          },
          "execution_count": 10
        }
      ]
    },
    {
      "cell_type": "code",
      "metadata": {
        "id": "221qP96nrT55"
      },
      "source": [
        "stroke_xgb = H2OXGBoostEstimator(booster='dart',\r\n",
        "                                  normalize_type=\"tree\",\r\n",
        "                                  seed=1234)"
      ],
      "execution_count": 11,
      "outputs": []
    },
    {
      "cell_type": "code",
      "metadata": {
        "id": "SI4McTJLrXhC",
        "colab": {
          "base_uri": "https://localhost:8080/"
        },
        "outputId": "1160abf1-c835-46d2-8053-0e39324fb85c"
      },
      "source": [
        "stroke_xgb.train(x=predictors,\r\n",
        "                  y=response,\r\n",
        "                  training_frame=train,\r\n",
        "                  validation_frame=test)"
      ],
      "execution_count": 12,
      "outputs": [
        {
          "output_type": "stream",
          "text": [
            "xgboost Model Build progress: |███████████████████████████████████████████| 100%\n"
          ],
          "name": "stdout"
        }
      ]
    },
    {
      "cell_type": "code",
      "metadata": {
        "id": "2BSxY4GzrXkN",
        "colab": {
          "base_uri": "https://localhost:8080/"
        },
        "outputId": "4aa7a377-c0c9-4d12-814a-0f0019bf7a8e"
      },
      "source": [
        "stroke_xgb.accuracy()"
      ],
      "execution_count": 32,
      "outputs": [
        {
          "output_type": "execute_result",
          "data": {
            "text/plain": [
              "[[0.6939302682876587, 1.0]]"
            ]
          },
          "metadata": {
            "tags": []
          },
          "execution_count": 32
        }
      ]
    },
    {
      "cell_type": "code",
      "metadata": {
        "id": "4lObBqJI9kSy",
        "outputId": "125f9fb4-98ef-4667-d0f7-ac1b41dd12e1",
        "colab": {
          "base_uri": "https://localhost:8080/",
          "height": 176
        }
      },
      "source": [
        "stroke_xgb.confusion_matrix(valid=test)"
      ],
      "execution_count": 34,
      "outputs": [
        {
          "output_type": "stream",
          "text": [
            "\n",
            "Confusion Matrix (Act/Pred) for max f1 @ threshold = 0.38981395959854126: \n"
          ],
          "name": "stdout"
        },
        {
          "output_type": "display_data",
          "data": {
            "text/html": [
              "<div>\n",
              "<style scoped>\n",
              "    .dataframe tbody tr th:only-of-type {\n",
              "        vertical-align: middle;\n",
              "    }\n",
              "\n",
              "    .dataframe tbody tr th {\n",
              "        vertical-align: top;\n",
              "    }\n",
              "\n",
              "    .dataframe thead th {\n",
              "        text-align: right;\n",
              "    }\n",
              "</style>\n",
              "<table border=\"1\" class=\"dataframe\">\n",
              "  <thead>\n",
              "    <tr style=\"text-align: right;\">\n",
              "      <th></th>\n",
              "      <th></th>\n",
              "      <th>alive</th>\n",
              "      <th>death</th>\n",
              "      <th>Error</th>\n",
              "      <th>Rate</th>\n",
              "    </tr>\n",
              "  </thead>\n",
              "  <tbody>\n",
              "    <tr>\n",
              "      <th>0</th>\n",
              "      <td>alive</td>\n",
              "      <td>10.0</td>\n",
              "      <td>4.0</td>\n",
              "      <td>0.2857</td>\n",
              "      <td>(4.0/14.0)</td>\n",
              "    </tr>\n",
              "    <tr>\n",
              "      <th>1</th>\n",
              "      <td>death</td>\n",
              "      <td>0.0</td>\n",
              "      <td>15.0</td>\n",
              "      <td>0.0</td>\n",
              "      <td>(0.0/15.0)</td>\n",
              "    </tr>\n",
              "    <tr>\n",
              "      <th>2</th>\n",
              "      <td>Total</td>\n",
              "      <td>10.0</td>\n",
              "      <td>19.0</td>\n",
              "      <td>0.1379</td>\n",
              "      <td>(4.0/29.0)</td>\n",
              "    </tr>\n",
              "  </tbody>\n",
              "</table>\n",
              "</div>"
            ],
            "text/plain": [
              "          alive  death   Error         Rate\n",
              "0  alive   10.0    4.0  0.2857   (4.0/14.0)\n",
              "1  death    0.0   15.0     0.0   (0.0/15.0)\n",
              "2  Total   10.0   19.0  0.1379   (4.0/29.0)"
            ]
          },
          "metadata": {
            "tags": []
          }
        },
        {
          "output_type": "execute_result",
          "data": {
            "text/plain": [
              ""
            ]
          },
          "metadata": {
            "tags": []
          },
          "execution_count": 34
        }
      ]
    },
    {
      "cell_type": "code",
      "metadata": {
        "id": "BtzANy26siKa",
        "colab": {
          "base_uri": "https://localhost:8080/"
        },
        "outputId": "1f2bd741-e561-4972-e9f8-66535b3070de"
      },
      "source": [
        "stroke_xgb.auc(valid=test)"
      ],
      "execution_count": 14,
      "outputs": [
        {
          "output_type": "execute_result",
          "data": {
            "text/plain": [
              "0.838095238095238"
            ]
          },
          "metadata": {
            "tags": []
          },
          "execution_count": 14
        }
      ]
    },
    {
      "cell_type": "code",
      "metadata": {
        "id": "_6nMhFVZstA0",
        "colab": {
          "base_uri": "https://localhost:8080/",
          "height": 612
        },
        "outputId": "660df2c4-7db2-4df5-9268-250ba8add83c"
      },
      "source": [
        "stroke_xgb.varimp_plot()"
      ],
      "execution_count": 15,
      "outputs": [
        {
          "output_type": "display_data",
          "data": {
            "image/png": "[encoded data removed]",
            "text/plain": [
              "<Figure size 1008x720 with 1 Axes>"
            ]
          },
          "metadata": {
            "tags": [],
            "needs_background": "light"
          }
        }
      ]
    },
    {
      "cell_type": "code",
      "metadata": {
        "colab": {
          "base_uri": "https://localhost:8080/"
        },
        "id": "w5V3WRnvAUBn",
        "outputId": "09b5131b-d18d-40fe-8137-8e20c9a0f869"
      },
      "source": [
        "aml = H2OAutoML(max_models = 6, max_runtime_secs = 120, seed = 12345)\n",
        "aml.train(x = predictors, y = response, training_frame = train, leaderboard_frame = test)"
      ],
      "execution_count": 16,
      "outputs": [
        {
          "output_type": "stream",
          "text": [
            "AutoML progress: |████████████████████████████████████████████████████████| 100%\n"
          ],
          "name": "stdout"
        }
      ]
    },
    {
      "cell_type": "code",
      "metadata": {
        "id": "9RX1wK5yBos9"
      },
      "source": [
        "lb = aml.leaderboard"
      ],
      "execution_count": 18,
      "outputs": []
    },
    {
      "cell_type": "code",
      "metadata": {
        "colab": {
          "base_uri": "https://localhost:8080/",
          "height": 145
        },
        "id": "gskx2siCCBjx",
        "outputId": "d5bfdbf7-2ba7-4949-d057-2bb8fcea0a4b"
      },
      "source": [
        "lb.head(rows=5)"
      ],
      "execution_count": 19,
      "outputs": [
        {
          "output_type": "display_data",
          "data": {
            "text/html": [
              "<table>\n",
              "<thead>\n",
              "<tr><th>model_id                                           </th><th style=\"text-align: right;\">     auc</th><th style=\"text-align: right;\">  logloss</th><th style=\"text-align: right;\">   aucpr</th><th style=\"text-align: right;\">  mean_per_class_error</th><th style=\"text-align: right;\">    rmse</th><th style=\"text-align: right;\">     mse</th></tr>\n",
              "</thead>\n",
              "<tbody>\n",
              "<tr><td>GBM_1_AutoML_20210116_112545                       </td><td style=\"text-align: right;\">0.866667</td><td style=\"text-align: right;\"> 0.460474</td><td style=\"text-align: right;\">0.840542</td><td style=\"text-align: right;\">              0.142857</td><td style=\"text-align: right;\">0.362449</td><td style=\"text-align: right;\">0.131369</td></tr>\n",
              "<tr><td>StackedEnsemble_BestOfFamily_AutoML_20210116_112545</td><td style=\"text-align: right;\">0.842857</td><td style=\"text-align: right;\"> 0.446959</td><td style=\"text-align: right;\">0.704081</td><td style=\"text-align: right;\">              0.107143</td><td style=\"text-align: right;\">0.354997</td><td style=\"text-align: right;\">0.126023</td></tr>\n",
              "<tr><td>StackedEnsemble_AllModels_AutoML_20210116_112545   </td><td style=\"text-align: right;\">0.838095</td><td style=\"text-align: right;\"> 0.455212</td><td style=\"text-align: right;\">0.700163</td><td style=\"text-align: right;\">              0.107143</td><td style=\"text-align: right;\">0.370997</td><td style=\"text-align: right;\">0.137639</td></tr>\n",
              "<tr><td>XGBoost_3_AutoML_20210116_112545                   </td><td style=\"text-align: right;\">0.828571</td><td style=\"text-align: right;\"> 0.508935</td><td style=\"text-align: right;\">0.811584</td><td style=\"text-align: right;\">              0.178571</td><td style=\"text-align: right;\">0.405357</td><td style=\"text-align: right;\">0.164314</td></tr>\n",
              "<tr><td>DRF_1_AutoML_20210116_112545                       </td><td style=\"text-align: right;\">0.82381 </td><td style=\"text-align: right;\"> 0.551078</td><td style=\"text-align: right;\">0.738875</td><td style=\"text-align: right;\">              0.17619 </td><td style=\"text-align: right;\">0.406136</td><td style=\"text-align: right;\">0.164946</td></tr>\n",
              "</tbody>\n",
              "</table>"
            ]
          },
          "metadata": {
            "tags": []
          }
        },
        {
          "output_type": "execute_result",
          "data": {
            "text/plain": [
              ""
            ]
          },
          "metadata": {
            "tags": []
          },
          "execution_count": 19
        }
      ]
    },
    {
      "cell_type": "code",
      "metadata": {
        "colab": {
          "base_uri": "https://localhost:8080/"
        },
        "id": "M-dE3rk6CDgc",
        "outputId": "20334a78-2c66-4763-a420-791f75112939"
      },
      "source": [
        "aml.varimp_heatmap\n"
      ],
      "execution_count": 20,
      "outputs": [
        {
          "output_type": "execute_result",
          "data": {
            "text/plain": [
              "<bound method varimp_heatmap of <h2o.automl.autoh2o.H2OAutoML object at 0x7f55300566d8>>"
            ]
          },
          "metadata": {
            "tags": []
          },
          "execution_count": 20
        }
      ]
    },
    {
      "cell_type": "code",
      "metadata": {
        "id": "fCbblmFxCNDc"
      },
      "source": [
        "import scipy\n",
        "from scipy import stats\n",
        "x = df[df['Surv'] == 'death']['GFR']\n",
        "y = df[df['Surv'] == 'alive']['GFR']\n"
      ],
      "execution_count": 21,
      "outputs": []
    },
    {
      "cell_type": "code",
      "metadata": {
        "colab": {
          "base_uri": "https://localhost:8080/"
        },
        "id": "S141LghYSSUP",
        "outputId": "93ea5943-42f9-4afe-c404-ba3ba68fccb6"
      },
      "source": [
        "y"
      ],
      "execution_count": 22,
      "outputs": [
        {
          "output_type": "execute_result",
          "data": {
            "text/plain": [
              "1      98\n",
              "3      69\n",
              "5      86\n",
              "7      52\n",
              "10     47\n",
              "14     21\n",
              "15     46\n",
              "20     21\n",
              "23     75\n",
              "25     66\n",
              "26     27\n",
              "27     41\n",
              "30     38\n",
              "32     70\n",
              "34     48\n",
              "35     55\n",
              "40     29\n",
              "41     90\n",
              "42     29\n",
              "43     54\n",
              "46     84\n",
              "47     54\n",
              "53     40\n",
              "54     78\n",
              "56     98\n",
              "59     86\n",
              "60     52\n",
              "66     21\n",
              "69     75\n",
              "71     66\n",
              "72     27\n",
              "73     38\n",
              "76     48\n",
              "77     55\n",
              "79     29\n",
              "80     90\n",
              "81     29\n",
              "84     84\n",
              "85     54\n",
              "91     72\n",
              "92     51\n",
              "94     40\n",
              "95     45\n",
              "97     47\n",
              "98     60\n",
              "99     44\n",
              "101    43\n",
              "102    46\n",
              "106    31\n",
              "110    33\n",
              "111    46\n",
              "112    25\n",
              "Name: GFR, dtype: int64"
            ]
          },
          "metadata": {
            "tags": []
          },
          "execution_count": 22
        }
      ]
    },
    {
      "cell_type": "code",
      "metadata": {
        "id": "vGbiPYWqSRsZ"
      },
      "source": [
        "x.name, y.name = 'death', 'alive'"
      ],
      "execution_count": 23,
      "outputs": []
    },
    {
      "cell_type": "code",
      "metadata": {
        "id": "DXApK0TzFHXk",
        "outputId": "8241bdc7-8b5c-4e0b-8407-bc5bc43213cc",
        "colab": {
          "base_uri": "https://localhost:8080/"
        }
      },
      "source": [
        "res = stats.ttest_ind(x, y)\n",
        "print('p-value: ', res[1])"
      ],
      "execution_count": 26,
      "outputs": [
        {
          "output_type": "stream",
          "text": [
            "p-value:  4.6154989422980537e-07\n"
          ],
          "name": "stdout"
        }
      ]
    },
    {
      "cell_type": "code",
      "metadata": {
        "id": "gqBWx6XxFUnG"
      },
      "source": [
        "from h2o.estimators.coxph import H2OCoxProportionalHazardsEstimator"
      ],
      "execution_count": 27,
      "outputs": []
    },
    {
      "cell_type": "code",
      "metadata": {
        "colab": {
          "base_uri": "https://localhost:8080/"
        },
        "id": "BLEyg9SZTaFn",
        "outputId": "6e41d7d5-e198-47b8-f725-7fe0374a468c"
      },
      "source": [
        "data.col_names"
      ],
      "execution_count": 28,
      "outputs": [
        {
          "output_type": "execute_result",
          "data": {
            "text/plain": [
              "['Gender',\n",
              " 'Age',\n",
              " 'AF',\n",
              " 'Localisation',\n",
              " 'AMI_Unst.ang',\n",
              " 'GFR',\n",
              " 'Surv',\n",
              " 'Q_non_Q',\n",
              " 'DM']"
            ]
          },
          "metadata": {
            "tags": []
          },
          "execution_count": 28
        }
      ]
    },
    {
      "cell_type": "code",
      "metadata": {
        "colab": {
          "base_uri": "https://localhost:8080/"
        },
        "id": "ZXvu5lvATLW8",
        "outputId": "e146d6d7-80a9-444c-eb32-19e3fa3b77da"
      },
      "source": [
        "stroke_coxph = H2OCoxProportionalHazardsEstimator(\n",
        "                                                 stop_column=\"GFR\",\n",
        "                                                 ties=\"breslow\")\n",
        "stroke_coxph.train(x=predictors,\n",
        "            y=response,\n",
        "            training_frame=train)"
      ],
      "execution_count": 29,
      "outputs": [
        {
          "output_type": "stream",
          "text": [
            "/usr/local/lib/python3.6/dist-packages/h2o/estimators/estimator_base.py:200: RuntimeWarning: Dropping bad and constant columns: [Q_non_Q]\n",
            "  warnings.warn(mesg[\"message\"], RuntimeWarning)\n"
          ],
          "name": "stderr"
        },
        {
          "output_type": "stream",
          "text": [
            "coxph Model Build progress: |█████████████████████████████████████████████| 100%\n"
          ],
          "name": "stdout"
        }
      ]
    },
    {
      "cell_type": "code",
      "metadata": {
        "colab": {
          "base_uri": "https://localhost:8080/"
        },
        "id": "zagkNs_eTi42",
        "outputId": "c8d64642-c8ac-4275-dc0c-12d5f825bea6"
      },
      "source": [
        "\n",
        "pred = stroke_coxph.predict(test)"
      ],
      "execution_count": 30,
      "outputs": [
        {
          "output_type": "stream",
          "text": [
            "coxph prediction progress: |██████████████████████████████████████████████| 100%\n"
          ],
          "name": "stdout"
        }
      ]
    },
    {
      "cell_type": "code",
      "metadata": {
        "colab": {
          "base_uri": "https://localhost:8080/",
          "height": 739
        },
        "id": "LTLLB_XgUej5",
        "outputId": "d4b16235-42e5-46d8-d781-8ced251aacf9"
      },
      "source": [
        "stroke_coxph.coefficients_table"
      ],
      "execution_count": 31,
      "outputs": [
        {
          "output_type": "stream",
          "text": [
            "Model Details\n",
            "=============\n",
            "H2OCoxProportionalHazardsEstimator :  Cox Proportional Hazards\n",
            "Model Key:  CoxPH_model_python_1610796178099_704\n",
            "\n",
            "Call: \n",
            "Surv(GFR, Surv) ~ Gender + Age + AF + Localisation + AMI_Unst.ang + DM\n",
            "\n",
            "Coefficients: CoxPH Coefficients\n"
          ],
          "name": "stdout"
        },
        {
          "output_type": "display_data",
          "data": {
            "text/html": [
              "<div>\n",
              "<style scoped>\n",
              "    .dataframe tbody tr th:only-of-type {\n",
              "        vertical-align: middle;\n",
              "    }\n",
              "\n",
              "    .dataframe tbody tr th {\n",
              "        vertical-align: top;\n",
              "    }\n",
              "\n",
              "    .dataframe thead th {\n",
              "        text-align: right;\n",
              "    }\n",
              "</style>\n",
              "<table border=\"1\" class=\"dataframe\">\n",
              "  <thead>\n",
              "    <tr style=\"text-align: right;\">\n",
              "      <th></th>\n",
              "      <th>names</th>\n",
              "      <th>coefficients</th>\n",
              "      <th>exp_coef</th>\n",
              "      <th>exp_neg_coef</th>\n",
              "      <th>se_coef</th>\n",
              "      <th>z_coef</th>\n",
              "    </tr>\n",
              "  </thead>\n",
              "  <tbody>\n",
              "    <tr>\n",
              "      <th>0</th>\n",
              "      <td>Localisation.Right_car</td>\n",
              "      <td>0.447030</td>\n",
              "      <td>1.563661</td>\n",
              "      <td>0.639525</td>\n",
              "      <td>0.362632</td>\n",
              "      <td>1.232737</td>\n",
              "    </tr>\n",
              "    <tr>\n",
              "      <th>1</th>\n",
              "      <td>Localisation.Vertebro_bas</td>\n",
              "      <td>0.135233</td>\n",
              "      <td>1.144804</td>\n",
              "      <td>0.873512</td>\n",
              "      <td>0.508271</td>\n",
              "      <td>0.266066</td>\n",
              "    </tr>\n",
              "    <tr>\n",
              "      <th>2</th>\n",
              "      <td>AF.No_AF</td>\n",
              "      <td>-0.504044</td>\n",
              "      <td>0.604083</td>\n",
              "      <td>1.655402</td>\n",
              "      <td>0.339281</td>\n",
              "      <td>-1.485625</td>\n",
              "    </tr>\n",
              "    <tr>\n",
              "      <th>3</th>\n",
              "      <td>Gender.male</td>\n",
              "      <td>-0.367024</td>\n",
              "      <td>0.692793</td>\n",
              "      <td>1.443433</td>\n",
              "      <td>0.432585</td>\n",
              "      <td>-0.848444</td>\n",
              "    </tr>\n",
              "    <tr>\n",
              "      <th>4</th>\n",
              "      <td>AMI_Unst.ang.Unst_ang</td>\n",
              "      <td>-1.922897</td>\n",
              "      <td>0.146183</td>\n",
              "      <td>6.840749</td>\n",
              "      <td>0.746244</td>\n",
              "      <td>-2.576766</td>\n",
              "    </tr>\n",
              "    <tr>\n",
              "      <th>5</th>\n",
              "      <td>DM.No_Diabetes</td>\n",
              "      <td>-0.798111</td>\n",
              "      <td>0.450179</td>\n",
              "      <td>2.221341</td>\n",
              "      <td>0.345460</td>\n",
              "      <td>-2.310285</td>\n",
              "    </tr>\n",
              "    <tr>\n",
              "      <th>6</th>\n",
              "      <td>Age</td>\n",
              "      <td>-0.003384</td>\n",
              "      <td>0.996622</td>\n",
              "      <td>1.003389</td>\n",
              "      <td>0.022620</td>\n",
              "      <td>-0.149588</td>\n",
              "    </tr>\n",
              "  </tbody>\n",
              "</table>\n",
              "</div>"
            ],
            "text/plain": [
              "                       names  coefficients  ...   se_coef    z_coef\n",
              "0     Localisation.Right_car      0.447030  ...  0.362632  1.232737\n",
              "1  Localisation.Vertebro_bas      0.135233  ...  0.508271  0.266066\n",
              "2                   AF.No_AF     -0.504044  ...  0.339281 -1.485625\n",
              "3                Gender.male     -0.367024  ...  0.432585 -0.848444\n",
              "4      AMI_Unst.ang.Unst_ang     -1.922897  ...  0.746244 -2.576766\n",
              "5             DM.No_Diabetes     -0.798111  ...  0.345460 -2.310285\n",
              "6                        Age     -0.003384  ...  0.022620 -0.149588\n",
              "\n",
              "[7 rows x 6 columns]"
            ]
          },
          "metadata": {
            "tags": []
          }
        },
        {
          "output_type": "stream",
          "text": [
            "\n",
            "Likelihood ratio test=26.501240\n",
            "n=84, number of events=46\n",
            "\n",
            "Scoring History: \n"
          ],
          "name": "stdout"
        },
        {
          "output_type": "display_data",
          "data": {
            "text/html": [
              "<div>\n",
              "<style scoped>\n",
              "    .dataframe tbody tr th:only-of-type {\n",
              "        vertical-align: middle;\n",
              "    }\n",
              "\n",
              "    .dataframe tbody tr th {\n",
              "        vertical-align: top;\n",
              "    }\n",
              "\n",
              "    .dataframe thead th {\n",
              "        text-align: right;\n",
              "    }\n",
              "</style>\n",
              "<table border=\"1\" class=\"dataframe\">\n",
              "  <thead>\n",
              "    <tr style=\"text-align: right;\">\n",
              "      <th></th>\n",
              "      <th></th>\n",
              "      <th>timestamp</th>\n",
              "      <th>duration</th>\n",
              "      <th>iterations</th>\n",
              "      <th>loglik</th>\n",
              "    </tr>\n",
              "  </thead>\n",
              "  <tbody>\n",
              "    <tr>\n",
              "      <th>0</th>\n",
              "      <td></td>\n",
              "      <td>2021-01-16 11:27:08</td>\n",
              "      <td>0.000 sec</td>\n",
              "      <td>0</td>\n",
              "      <td>-178.081986</td>\n",
              "    </tr>\n",
              "    <tr>\n",
              "      <th>1</th>\n",
              "      <td></td>\n",
              "      <td>2021-01-16 11:27:08</td>\n",
              "      <td>0.003 sec</td>\n",
              "      <td>1</td>\n",
              "      <td>-166.081022</td>\n",
              "    </tr>\n",
              "    <tr>\n",
              "      <th>2</th>\n",
              "      <td></td>\n",
              "      <td>2021-01-16 11:27:08</td>\n",
              "      <td>0.005 sec</td>\n",
              "      <td>2</td>\n",
              "      <td>-164.892873</td>\n",
              "    </tr>\n",
              "    <tr>\n",
              "      <th>3</th>\n",
              "      <td></td>\n",
              "      <td>2021-01-16 11:27:08</td>\n",
              "      <td>0.007 sec</td>\n",
              "      <td>3</td>\n",
              "      <td>-164.831951</td>\n",
              "    </tr>\n",
              "    <tr>\n",
              "      <th>4</th>\n",
              "      <td></td>\n",
              "      <td>2021-01-16 11:27:08</td>\n",
              "      <td>0.008 sec</td>\n",
              "      <td>4</td>\n",
              "      <td>-164.831366</td>\n",
              "    </tr>\n",
              "    <tr>\n",
              "      <th>5</th>\n",
              "      <td></td>\n",
              "      <td>2021-01-16 11:27:08</td>\n",
              "      <td>0.010 sec</td>\n",
              "      <td>5</td>\n",
              "      <td>-164.831366</td>\n",
              "    </tr>\n",
              "  </tbody>\n",
              "</table>\n",
              "</div>"
            ],
            "text/plain": [
              "               timestamp    duration  iterations      loglik\n",
              "0    2021-01-16 11:27:08   0.000 sec           0 -178.081986\n",
              "1    2021-01-16 11:27:08   0.003 sec           1 -166.081022\n",
              "2    2021-01-16 11:27:08   0.005 sec           2 -164.892873\n",
              "3    2021-01-16 11:27:08   0.007 sec           3 -164.831951\n",
              "4    2021-01-16 11:27:08   0.008 sec           4 -164.831366\n",
              "5    2021-01-16 11:27:08   0.010 sec           5 -164.831366"
            ]
          },
          "metadata": {
            "tags": []
          }
        },
        {
          "output_type": "execute_result",
          "data": {
            "text/plain": [
              "<bound method H2OCoxPHModel.coefficients_table of >"
            ]
          },
          "metadata": {
            "tags": []
          },
          "execution_count": 31
        }
      ]
    },
    {
      "cell_type": "code",
      "metadata": {
        "id": "LlFwoGl9UqVg"
      },
      "source": [
        ""
      ],
      "execution_count": null,
      "outputs": []
    }
  ]
}